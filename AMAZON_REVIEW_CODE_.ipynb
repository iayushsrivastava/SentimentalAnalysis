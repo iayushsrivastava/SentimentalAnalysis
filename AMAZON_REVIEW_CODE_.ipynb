{
  "nbformat": 4,
  "nbformat_minor": 0,
  "metadata": {
    "colab": {
      "provenance": [],
      "toc_visible": true
    },
    "kernelspec": {
      "name": "python3",
      "display_name": "Python 3"
    },
    "language_info": {
      "name": "python"
    }
  },
  "cells": [
    {
      "cell_type": "code",
      "execution_count": 1,
      "metadata": {
        "colab": {
          "base_uri": "https://localhost:8080/"
        },
        "id": "LmeETJLIQSKP",
        "outputId": "e00e0444-ba6b-4dd3-ea53-5c301d08a71e"
      },
      "outputs": [
        {
          "output_type": "stream",
          "name": "stdout",
          "text": [
            "Requirement already satisfied: nltk in /usr/local/lib/python3.10/dist-packages (3.8.1)\n",
            "Requirement already satisfied: click in /usr/local/lib/python3.10/dist-packages (from nltk) (8.1.7)\n",
            "Requirement already satisfied: joblib in /usr/local/lib/python3.10/dist-packages (from nltk) (1.3.2)\n",
            "Requirement already satisfied: regex>=2021.8.3 in /usr/local/lib/python3.10/dist-packages (from nltk) (2023.12.25)\n",
            "Requirement already satisfied: tqdm in /usr/local/lib/python3.10/dist-packages (from nltk) (4.66.2)\n",
            "Requirement already satisfied: textblob in /usr/local/lib/python3.10/dist-packages (0.17.1)\n",
            "Requirement already satisfied: nltk>=3.1 in /usr/local/lib/python3.10/dist-packages (from textblob) (3.8.1)\n",
            "Requirement already satisfied: click in /usr/local/lib/python3.10/dist-packages (from nltk>=3.1->textblob) (8.1.7)\n",
            "Requirement already satisfied: joblib in /usr/local/lib/python3.10/dist-packages (from nltk>=3.1->textblob) (1.3.2)\n",
            "Requirement already satisfied: regex>=2021.8.3 in /usr/local/lib/python3.10/dist-packages (from nltk>=3.1->textblob) (2023.12.25)\n",
            "Requirement already satisfied: tqdm in /usr/local/lib/python3.10/dist-packages (from nltk>=3.1->textblob) (4.66.2)\n",
            "Requirement already satisfied: wordcloud in /usr/local/lib/python3.10/dist-packages (1.9.3)\n",
            "Requirement already satisfied: numpy>=1.6.1 in /usr/local/lib/python3.10/dist-packages (from wordcloud) (1.25.2)\n",
            "Requirement already satisfied: pillow in /usr/local/lib/python3.10/dist-packages (from wordcloud) (9.4.0)\n",
            "Requirement already satisfied: matplotlib in /usr/local/lib/python3.10/dist-packages (from wordcloud) (3.7.1)\n",
            "Requirement already satisfied: contourpy>=1.0.1 in /usr/local/lib/python3.10/dist-packages (from matplotlib->wordcloud) (1.2.0)\n",
            "Requirement already satisfied: cycler>=0.10 in /usr/local/lib/python3.10/dist-packages (from matplotlib->wordcloud) (0.12.1)\n",
            "Requirement already satisfied: fonttools>=4.22.0 in /usr/local/lib/python3.10/dist-packages (from matplotlib->wordcloud) (4.49.0)\n",
            "Requirement already satisfied: kiwisolver>=1.0.1 in /usr/local/lib/python3.10/dist-packages (from matplotlib->wordcloud) (1.4.5)\n",
            "Requirement already satisfied: packaging>=20.0 in /usr/local/lib/python3.10/dist-packages (from matplotlib->wordcloud) (23.2)\n",
            "Requirement already satisfied: pyparsing>=2.3.1 in /usr/local/lib/python3.10/dist-packages (from matplotlib->wordcloud) (3.1.1)\n",
            "Requirement already satisfied: python-dateutil>=2.7 in /usr/local/lib/python3.10/dist-packages (from matplotlib->wordcloud) (2.8.2)\n",
            "Requirement already satisfied: six>=1.5 in /usr/local/lib/python3.10/dist-packages (from python-dateutil>=2.7->matplotlib->wordcloud) (1.16.0)\n"
          ]
        },
        {
          "output_type": "stream",
          "name": "stderr",
          "text": [
            "[nltk_data] Downloading package stopwords to /root/nltk_data...\n",
            "[nltk_data]   Unzipping corpora/stopwords.zip.\n",
            "[nltk_data] Downloading package wordnet to /root/nltk_data...\n",
            "[nltk_data] Downloading package vader_lexicon to /root/nltk_data...\n"
          ]
        }
      ],
      "source": [
        "!pip install nltk\n",
        "!pip install textblob\n",
        "!pip install wordcloud\n",
        "\n",
        "from warnings import filterwarnings\n",
        "import numpy as np\n",
        "import pandas as pd\n",
        "import seaborn as sns\n",
        "import matplotlib.pyplot as plt\n",
        "from PIL import Image\n",
        "from nltk.corpus import stopwords\n",
        "from nltk.sentiment import SentimentIntensityAnalyzer\n",
        "from sklearn.ensemble import RandomForestClassifier\n",
        "from sklearn.linear_model import LogisticRegression\n",
        "from sklearn.model_selection import cross_val_score, GridSearchCV, cross_validate, train_test_split\n",
        "from sklearn.preprocessing import LabelEncoder\n",
        "from textblob import Word, TextBlob\n",
        "from wordcloud import WordCloud\n",
        "from sklearn.feature_extraction.text import TfidfVectorizer, CountVectorizer\n",
        "import nltk\n",
        "nltk.download(\"stopwords\")\n",
        "nltk.download(\"wordnet\")\n",
        "nltk.download(\"vader_lexicon\")\n",
        "import warnings\n",
        "warnings.filterwarnings('ignore')\n",
        "\n",
        "pd.set_option(\"display.max_columns\", None)\n",
        "pd.set_option(\"display.width\", 500)\n",
        "pd.set_option(\"display.float_format\", lambda x: '%.2f' % x)"
      ]
    },
    {
      "cell_type": "code",
      "source": [
        "df = pd.read_csv(\"/content/amazon_reviews.csv\", sep=\",\")\n",
        "df.head()"
      ],
      "metadata": {
        "colab": {
          "base_uri": "https://localhost:8080/",
          "height": 504
        },
        "id": "dB984rjoQxsw",
        "outputId": "569c9a95-97d1-41b4-d8f4-498b7d40c51f"
      },
      "execution_count": 5,
      "outputs": [
        {
          "output_type": "execute_result",
          "data": {
            "text/plain": [
              "   Unnamed: 0  reviewerName  overall                                         reviewText  reviewTime  day_diff  helpful_yes  helpful_no  total_vote  score_pos_neg_diff  score_average_rating  wilson_lower_bound\n",
              "0           0           NaN     4.00                                         No issues.  2014-07-23       138            0           0           0                   0                  0.00                0.00\n",
              "1           1          0mie     5.00  Purchased this for my device, it worked as adv...  2013-10-25       409            0           0           0                   0                  0.00                0.00\n",
              "2           2           1K3     4.00  it works as expected. I should have sprung for...  2012-12-23       715            0           0           0                   0                  0.00                0.00\n",
              "3           3           1m2     5.00  This think has worked out great.Had a diff. br...  2013-11-21       382            0           0           0                   0                  0.00                0.00\n",
              "4           4  2&amp;1/2Men     5.00  Bought it with Retail Packaging, arrived legit...  2013-07-13       513            0           0           0                   0                  0.00                0.00"
            ],
            "text/html": [
              "\n",
              "  <div id=\"df-2436dc4f-5d33-466b-b72f-adf38d655e0e\" class=\"colab-df-container\">\n",
              "    <div>\n",
              "<style scoped>\n",
              "    .dataframe tbody tr th:only-of-type {\n",
              "        vertical-align: middle;\n",
              "    }\n",
              "\n",
              "    .dataframe tbody tr th {\n",
              "        vertical-align: top;\n",
              "    }\n",
              "\n",
              "    .dataframe thead th {\n",
              "        text-align: right;\n",
              "    }\n",
              "</style>\n",
              "<table border=\"1\" class=\"dataframe\">\n",
              "  <thead>\n",
              "    <tr style=\"text-align: right;\">\n",
              "      <th></th>\n",
              "      <th>Unnamed: 0</th>\n",
              "      <th>reviewerName</th>\n",
              "      <th>overall</th>\n",
              "      <th>reviewText</th>\n",
              "      <th>reviewTime</th>\n",
              "      <th>day_diff</th>\n",
              "      <th>helpful_yes</th>\n",
              "      <th>helpful_no</th>\n",
              "      <th>total_vote</th>\n",
              "      <th>score_pos_neg_diff</th>\n",
              "      <th>score_average_rating</th>\n",
              "      <th>wilson_lower_bound</th>\n",
              "    </tr>\n",
              "  </thead>\n",
              "  <tbody>\n",
              "    <tr>\n",
              "      <th>0</th>\n",
              "      <td>0</td>\n",
              "      <td>NaN</td>\n",
              "      <td>4.00</td>\n",
              "      <td>No issues.</td>\n",
              "      <td>2014-07-23</td>\n",
              "      <td>138</td>\n",
              "      <td>0</td>\n",
              "      <td>0</td>\n",
              "      <td>0</td>\n",
              "      <td>0</td>\n",
              "      <td>0.00</td>\n",
              "      <td>0.00</td>\n",
              "    </tr>\n",
              "    <tr>\n",
              "      <th>1</th>\n",
              "      <td>1</td>\n",
              "      <td>0mie</td>\n",
              "      <td>5.00</td>\n",
              "      <td>Purchased this for my device, it worked as adv...</td>\n",
              "      <td>2013-10-25</td>\n",
              "      <td>409</td>\n",
              "      <td>0</td>\n",
              "      <td>0</td>\n",
              "      <td>0</td>\n",
              "      <td>0</td>\n",
              "      <td>0.00</td>\n",
              "      <td>0.00</td>\n",
              "    </tr>\n",
              "    <tr>\n",
              "      <th>2</th>\n",
              "      <td>2</td>\n",
              "      <td>1K3</td>\n",
              "      <td>4.00</td>\n",
              "      <td>it works as expected. I should have sprung for...</td>\n",
              "      <td>2012-12-23</td>\n",
              "      <td>715</td>\n",
              "      <td>0</td>\n",
              "      <td>0</td>\n",
              "      <td>0</td>\n",
              "      <td>0</td>\n",
              "      <td>0.00</td>\n",
              "      <td>0.00</td>\n",
              "    </tr>\n",
              "    <tr>\n",
              "      <th>3</th>\n",
              "      <td>3</td>\n",
              "      <td>1m2</td>\n",
              "      <td>5.00</td>\n",
              "      <td>This think has worked out great.Had a diff. br...</td>\n",
              "      <td>2013-11-21</td>\n",
              "      <td>382</td>\n",
              "      <td>0</td>\n",
              "      <td>0</td>\n",
              "      <td>0</td>\n",
              "      <td>0</td>\n",
              "      <td>0.00</td>\n",
              "      <td>0.00</td>\n",
              "    </tr>\n",
              "    <tr>\n",
              "      <th>4</th>\n",
              "      <td>4</td>\n",
              "      <td>2&amp;amp;1/2Men</td>\n",
              "      <td>5.00</td>\n",
              "      <td>Bought it with Retail Packaging, arrived legit...</td>\n",
              "      <td>2013-07-13</td>\n",
              "      <td>513</td>\n",
              "      <td>0</td>\n",
              "      <td>0</td>\n",
              "      <td>0</td>\n",
              "      <td>0</td>\n",
              "      <td>0.00</td>\n",
              "      <td>0.00</td>\n",
              "    </tr>\n",
              "  </tbody>\n",
              "</table>\n",
              "</div>\n",
              "    <div class=\"colab-df-buttons\">\n",
              "\n",
              "  <div class=\"colab-df-container\">\n",
              "    <button class=\"colab-df-convert\" onclick=\"convertToInteractive('df-2436dc4f-5d33-466b-b72f-adf38d655e0e')\"\n",
              "            title=\"Convert this dataframe to an interactive table.\"\n",
              "            style=\"display:none;\">\n",
              "\n",
              "  <svg xmlns=\"http://www.w3.org/2000/svg\" height=\"24px\" viewBox=\"0 -960 960 960\">\n",
              "    <path d=\"M120-120v-720h720v720H120Zm60-500h600v-160H180v160Zm220 220h160v-160H400v160Zm0 220h160v-160H400v160ZM180-400h160v-160H180v160Zm440 0h160v-160H620v160ZM180-180h160v-160H180v160Zm440 0h160v-160H620v160Z\"/>\n",
              "  </svg>\n",
              "    </button>\n",
              "\n",
              "  <style>\n",
              "    .colab-df-container {\n",
              "      display:flex;\n",
              "      gap: 12px;\n",
              "    }\n",
              "\n",
              "    .colab-df-convert {\n",
              "      background-color: #E8F0FE;\n",
              "      border: none;\n",
              "      border-radius: 50%;\n",
              "      cursor: pointer;\n",
              "      display: none;\n",
              "      fill: #1967D2;\n",
              "      height: 32px;\n",
              "      padding: 0 0 0 0;\n",
              "      width: 32px;\n",
              "    }\n",
              "\n",
              "    .colab-df-convert:hover {\n",
              "      background-color: #E2EBFA;\n",
              "      box-shadow: 0px 1px 2px rgba(60, 64, 67, 0.3), 0px 1px 3px 1px rgba(60, 64, 67, 0.15);\n",
              "      fill: #174EA6;\n",
              "    }\n",
              "\n",
              "    .colab-df-buttons div {\n",
              "      margin-bottom: 4px;\n",
              "    }\n",
              "\n",
              "    [theme=dark] .colab-df-convert {\n",
              "      background-color: #3B4455;\n",
              "      fill: #D2E3FC;\n",
              "    }\n",
              "\n",
              "    [theme=dark] .colab-df-convert:hover {\n",
              "      background-color: #434B5C;\n",
              "      box-shadow: 0px 1px 3px 1px rgba(0, 0, 0, 0.15);\n",
              "      filter: drop-shadow(0px 1px 2px rgba(0, 0, 0, 0.3));\n",
              "      fill: #FFFFFF;\n",
              "    }\n",
              "  </style>\n",
              "\n",
              "    <script>\n",
              "      const buttonEl =\n",
              "        document.querySelector('#df-2436dc4f-5d33-466b-b72f-adf38d655e0e button.colab-df-convert');\n",
              "      buttonEl.style.display =\n",
              "        google.colab.kernel.accessAllowed ? 'block' : 'none';\n",
              "\n",
              "      async function convertToInteractive(key) {\n",
              "        const element = document.querySelector('#df-2436dc4f-5d33-466b-b72f-adf38d655e0e');\n",
              "        const dataTable =\n",
              "          await google.colab.kernel.invokeFunction('convertToInteractive',\n",
              "                                                    [key], {});\n",
              "        if (!dataTable) return;\n",
              "\n",
              "        const docLinkHtml = 'Like what you see? Visit the ' +\n",
              "          '<a target=\"_blank\" href=https://colab.research.google.com/notebooks/data_table.ipynb>data table notebook</a>'\n",
              "          + ' to learn more about interactive tables.';\n",
              "        element.innerHTML = '';\n",
              "        dataTable['output_type'] = 'display_data';\n",
              "        await google.colab.output.renderOutput(dataTable, element);\n",
              "        const docLink = document.createElement('div');\n",
              "        docLink.innerHTML = docLinkHtml;\n",
              "        element.appendChild(docLink);\n",
              "      }\n",
              "    </script>\n",
              "  </div>\n",
              "\n",
              "\n",
              "<div id=\"df-c5065b2a-a6af-419c-adde-b25038d5d3f6\">\n",
              "  <button class=\"colab-df-quickchart\" onclick=\"quickchart('df-c5065b2a-a6af-419c-adde-b25038d5d3f6')\"\n",
              "            title=\"Suggest charts\"\n",
              "            style=\"display:none;\">\n",
              "\n",
              "<svg xmlns=\"http://www.w3.org/2000/svg\" height=\"24px\"viewBox=\"0 0 24 24\"\n",
              "     width=\"24px\">\n",
              "    <g>\n",
              "        <path d=\"M19 3H5c-1.1 0-2 .9-2 2v14c0 1.1.9 2 2 2h14c1.1 0 2-.9 2-2V5c0-1.1-.9-2-2-2zM9 17H7v-7h2v7zm4 0h-2V7h2v10zm4 0h-2v-4h2v4z\"/>\n",
              "    </g>\n",
              "</svg>\n",
              "  </button>\n",
              "\n",
              "<style>\n",
              "  .colab-df-quickchart {\n",
              "      --bg-color: #E8F0FE;\n",
              "      --fill-color: #1967D2;\n",
              "      --hover-bg-color: #E2EBFA;\n",
              "      --hover-fill-color: #174EA6;\n",
              "      --disabled-fill-color: #AAA;\n",
              "      --disabled-bg-color: #DDD;\n",
              "  }\n",
              "\n",
              "  [theme=dark] .colab-df-quickchart {\n",
              "      --bg-color: #3B4455;\n",
              "      --fill-color: #D2E3FC;\n",
              "      --hover-bg-color: #434B5C;\n",
              "      --hover-fill-color: #FFFFFF;\n",
              "      --disabled-bg-color: #3B4455;\n",
              "      --disabled-fill-color: #666;\n",
              "  }\n",
              "\n",
              "  .colab-df-quickchart {\n",
              "    background-color: var(--bg-color);\n",
              "    border: none;\n",
              "    border-radius: 50%;\n",
              "    cursor: pointer;\n",
              "    display: none;\n",
              "    fill: var(--fill-color);\n",
              "    height: 32px;\n",
              "    padding: 0;\n",
              "    width: 32px;\n",
              "  }\n",
              "\n",
              "  .colab-df-quickchart:hover {\n",
              "    background-color: var(--hover-bg-color);\n",
              "    box-shadow: 0 1px 2px rgba(60, 64, 67, 0.3), 0 1px 3px 1px rgba(60, 64, 67, 0.15);\n",
              "    fill: var(--button-hover-fill-color);\n",
              "  }\n",
              "\n",
              "  .colab-df-quickchart-complete:disabled,\n",
              "  .colab-df-quickchart-complete:disabled:hover {\n",
              "    background-color: var(--disabled-bg-color);\n",
              "    fill: var(--disabled-fill-color);\n",
              "    box-shadow: none;\n",
              "  }\n",
              "\n",
              "  .colab-df-spinner {\n",
              "    border: 2px solid var(--fill-color);\n",
              "    border-color: transparent;\n",
              "    border-bottom-color: var(--fill-color);\n",
              "    animation:\n",
              "      spin 1s steps(1) infinite;\n",
              "  }\n",
              "\n",
              "  @keyframes spin {\n",
              "    0% {\n",
              "      border-color: transparent;\n",
              "      border-bottom-color: var(--fill-color);\n",
              "      border-left-color: var(--fill-color);\n",
              "    }\n",
              "    20% {\n",
              "      border-color: transparent;\n",
              "      border-left-color: var(--fill-color);\n",
              "      border-top-color: var(--fill-color);\n",
              "    }\n",
              "    30% {\n",
              "      border-color: transparent;\n",
              "      border-left-color: var(--fill-color);\n",
              "      border-top-color: var(--fill-color);\n",
              "      border-right-color: var(--fill-color);\n",
              "    }\n",
              "    40% {\n",
              "      border-color: transparent;\n",
              "      border-right-color: var(--fill-color);\n",
              "      border-top-color: var(--fill-color);\n",
              "    }\n",
              "    60% {\n",
              "      border-color: transparent;\n",
              "      border-right-color: var(--fill-color);\n",
              "    }\n",
              "    80% {\n",
              "      border-color: transparent;\n",
              "      border-right-color: var(--fill-color);\n",
              "      border-bottom-color: var(--fill-color);\n",
              "    }\n",
              "    90% {\n",
              "      border-color: transparent;\n",
              "      border-bottom-color: var(--fill-color);\n",
              "    }\n",
              "  }\n",
              "</style>\n",
              "\n",
              "  <script>\n",
              "    async function quickchart(key) {\n",
              "      const quickchartButtonEl =\n",
              "        document.querySelector('#' + key + ' button');\n",
              "      quickchartButtonEl.disabled = true;  // To prevent multiple clicks.\n",
              "      quickchartButtonEl.classList.add('colab-df-spinner');\n",
              "      try {\n",
              "        const charts = await google.colab.kernel.invokeFunction(\n",
              "            'suggestCharts', [key], {});\n",
              "      } catch (error) {\n",
              "        console.error('Error during call to suggestCharts:', error);\n",
              "      }\n",
              "      quickchartButtonEl.classList.remove('colab-df-spinner');\n",
              "      quickchartButtonEl.classList.add('colab-df-quickchart-complete');\n",
              "    }\n",
              "    (() => {\n",
              "      let quickchartButtonEl =\n",
              "        document.querySelector('#df-c5065b2a-a6af-419c-adde-b25038d5d3f6 button');\n",
              "      quickchartButtonEl.style.display =\n",
              "        google.colab.kernel.accessAllowed ? 'block' : 'none';\n",
              "    })();\n",
              "  </script>\n",
              "</div>\n",
              "    </div>\n",
              "  </div>\n"
            ],
            "application/vnd.google.colaboratory.intrinsic+json": {
              "type": "dataframe",
              "variable_name": "df",
              "summary": "{\n  \"name\": \"df\",\n  \"rows\": 4915,\n  \"fields\": [\n    {\n      \"column\": \"Unnamed: 0\",\n      \"properties\": {\n        \"dtype\": \"number\",\n        \"std\": 1418,\n        \"min\": 0,\n        \"max\": 4914,\n        \"num_unique_values\": 4915,\n        \"samples\": [\n          2346,\n          4344,\n          691\n        ],\n        \"semantic_type\": \"\",\n        \"description\": \"\"\n      }\n    },\n    {\n      \"column\": \"reviewerName\",\n      \"properties\": {\n        \"dtype\": \"string\",\n        \"num_unique_values\": 4594,\n        \"samples\": [\n          \"nta699\",\n          \"Maximus\",\n          \"G. Jackson\"\n        ],\n        \"semantic_type\": \"\",\n        \"description\": \"\"\n      }\n    },\n    {\n      \"column\": \"overall\",\n      \"properties\": {\n        \"dtype\": \"number\",\n        \"std\": 0.9968451383820338,\n        \"min\": 1.0,\n        \"max\": 5.0,\n        \"num_unique_values\": 5,\n        \"samples\": [\n          5.0,\n          2.0,\n          3.0\n        ],\n        \"semantic_type\": \"\",\n        \"description\": \"\"\n      }\n    },\n    {\n      \"column\": \"reviewText\",\n      \"properties\": {\n        \"dtype\": \"string\",\n        \"num_unique_values\": 4912,\n        \"samples\": [\n          \"Bought this for extended memory in a Galaxy S III.  Great price. Easy to install and the phone recognized it instantly. Does what its supposed to do.\",\n          \"I bought this after I found out that you can add a memory card to the Samsung galaxy s4! I never even knew that you could, and so once I found out I bought this and installed it. It's worked perfectly since and holds all of my songs and videos.  Great buy!\",\n          \"Using it on a Canon 6D. No camplains at all. Really fast access. The adapter itself is not at same level, even though. Bad connection, had to use a previous adapter that I already had.\"\n        ],\n        \"semantic_type\": \"\",\n        \"description\": \"\"\n      }\n    },\n    {\n      \"column\": \"reviewTime\",\n      \"properties\": {\n        \"dtype\": \"object\",\n        \"num_unique_values\": 690,\n        \"samples\": [\n          \"2013-03-12\",\n          \"2013-09-10\",\n          \"2012-12-09\"\n        ],\n        \"semantic_type\": \"\",\n        \"description\": \"\"\n      }\n    },\n    {\n      \"column\": \"day_diff\",\n      \"properties\": {\n        \"dtype\": \"number\",\n        \"std\": 209,\n        \"min\": 1,\n        \"max\": 1064,\n        \"num_unique_values\": 690,\n        \"samples\": [\n          636,\n          454,\n          729\n        ],\n        \"semantic_type\": \"\",\n        \"description\": \"\"\n      }\n    },\n    {\n      \"column\": \"helpful_yes\",\n      \"properties\": {\n        \"dtype\": \"number\",\n        \"std\": 41,\n        \"min\": 0,\n        \"max\": 1952,\n        \"num_unique_values\": 23,\n        \"samples\": [\n          1428,\n          6,\n          0\n        ],\n        \"semantic_type\": \"\",\n        \"description\": \"\"\n      }\n    },\n    {\n      \"column\": \"helpful_no\",\n      \"properties\": {\n        \"dtype\": \"number\",\n        \"std\": 4,\n        \"min\": 0,\n        \"max\": 183,\n        \"num_unique_values\": 17,\n        \"samples\": [\n          0,\n          1,\n          10\n        ],\n        \"semantic_type\": \"\",\n        \"description\": \"\"\n      }\n    },\n    {\n      \"column\": \"total_vote\",\n      \"properties\": {\n        \"dtype\": \"number\",\n        \"std\": 44,\n        \"min\": 0,\n        \"max\": 2020,\n        \"num_unique_values\": 26,\n        \"samples\": [\n          495,\n          1505,\n          0\n        ],\n        \"semantic_type\": \"\",\n        \"description\": \"\"\n      }\n    },\n    {\n      \"column\": \"score_pos_neg_diff\",\n      \"properties\": {\n        \"dtype\": \"number\",\n        \"std\": 39,\n        \"min\": -130,\n        \"max\": 1884,\n        \"num_unique_values\": 27,\n        \"samples\": [\n          -2,\n          52,\n          -3\n        ],\n        \"semantic_type\": \"\",\n        \"description\": \"\"\n      }\n    },\n    {\n      \"column\": \"score_average_rating\",\n      \"properties\": {\n        \"dtype\": \"number\",\n        \"std\": 0.25606237802879933,\n        \"min\": 0.0,\n        \"max\": 1.0,\n        \"num_unique_values\": 28,\n        \"samples\": [\n          0.3333333333333333,\n          0.3076923076923077,\n          0.8571428571428571\n        ],\n        \"semantic_type\": \"\",\n        \"description\": \"\"\n      }\n    },\n    {\n      \"column\": \"wilson_lower_bound\",\n      \"properties\": {\n        \"dtype\": \"number\",\n        \"std\": 0.0771874411204749,\n        \"min\": 0.0,\n        \"max\": 0.9575439475520824,\n        \"num_unique_values\": 40,\n        \"samples\": [\n          0.6456695649333126,\n          0.4364971778135299,\n          0.3755346297625253\n        ],\n        \"semantic_type\": \"\",\n        \"description\": \"\"\n      }\n    }\n  ]\n}"
            }
          },
          "metadata": {},
          "execution_count": 5
        }
      ]
    },
    {
      "cell_type": "markdown",
      "source": [
        "TEXT PROCESSING\n"
      ],
      "metadata": {
        "id": "6pgWED-gRWOP"
      }
    },
    {
      "cell_type": "code",
      "source": [
        "def text_preprocessing(dataframe, dependent_var):\n",
        "  # Normalizing Case Folding - Uppercase to Lowercase\n",
        "  dataframe[dependent_var] = dataframe[dependent_var].apply(lambda x: \" \".join(x.lower() for x in str(x).split()))\n",
        "\n",
        "  # Removing Punctuation\n",
        "  dataframe[dependent_var] = dataframe[dependent_var].str.replace('[^\\w\\s]','')\n",
        "\n",
        "  # Removing Numbers\n",
        "  dataframe[dependent_var] = dataframe[dependent_var].str.replace('\\d','')\n",
        "\n",
        "  # StopWords\n",
        "  sw = stopwords.words('english')\n",
        "  dataframe[dependent_var] = dataframe[dependent_var].apply(lambda x: \" \".join(x for x in x.split() if x not in sw))\n",
        "\n",
        "  # Remove Rare Words\n",
        "  temp_df = pd.Series(' '.join(dataframe[dependent_var]).split()).value_counts()\n",
        "  drops = temp_df[temp_df <= 1]\n",
        "  dataframe[dependent_var] = dataframe[dependent_var].apply(lambda x: \" \".join(x for x in str(x).split() if x not in drops))\n",
        "\n",
        "  # Lemmatize\n",
        "  dataframe[dependent_var] = dataframe[dependent_var].apply(lambda x: \" \".join([Word(word).lemmatize() for word in x.split()]))\n",
        "\n",
        "  return dataframe"
      ],
      "metadata": {
        "id": "OyOqq_pJRdNH"
      },
      "execution_count": 6,
      "outputs": []
    },
    {
      "cell_type": "code",
      "source": [
        "#df = text_preprocessing(df, \"reviewText\")\n"
      ],
      "metadata": {
        "id": "GUb6Ohp_RgpR"
      },
      "execution_count": 7,
      "outputs": []
    },
    {
      "cell_type": "code",
      "source": [
        "df[\"reviewText\"].head()\n"
      ],
      "metadata": {
        "colab": {
          "base_uri": "https://localhost:8080/"
        },
        "id": "2JYFyfTLRjcF",
        "outputId": "52d3eb11-8087-4f2d-e762-70f149f0d7f8"
      },
      "execution_count": 8,
      "outputs": [
        {
          "output_type": "execute_result",
          "data": {
            "text/plain": [
              "0                                           No issues.\n",
              "1    Purchased this for my device, it worked as adv...\n",
              "2    it works as expected. I should have sprung for...\n",
              "3    This think has worked out great.Had a diff. br...\n",
              "4    Bought it with Retail Packaging, arrived legit...\n",
              "Name: reviewText, dtype: object"
            ]
          },
          "metadata": {},
          "execution_count": 8
        }
      ]
    },
    {
      "cell_type": "code",
      "source": [],
      "metadata": {
        "id": "N5We0yF4RlgB"
      },
      "execution_count": null,
      "outputs": []
    },
    {
      "cell_type": "markdown",
      "source": [
        "```\n",
        "\n",
        "# Text Visualization"
      ],
      "metadata": {
        "id": "9t5yHpz_RsKx"
      }
    },
    {
      "cell_type": "code",
      "source": [
        "def text_visulaization(dataframe, dependent_var, barplot=True, wordcloud=True):\n",
        "  # Calculation of Term Frequencies\n",
        "  tf = dataframe[dependent_var].apply(lambda x: pd.value_counts(x.split(\" \"))).sum(axis=0).reset_index()\n",
        "  tf.columns = [\"words\", \"tf\"]\n",
        "\n",
        "  if barplot:\n",
        "    # Bar Plot\n",
        "    tf[tf[\"tf\"]>1000].plot.barh(x=\"words\", y=\"tf\")\n",
        "    plt.title(\"Calculation of Term Frequencies : barplot\")\n",
        "    plt.show()\n",
        "\n",
        "  if wordcloud:\n",
        "    # WordCloud\n",
        "    text = \" \".join(i for i in dataframe[dependent_var])\n",
        "    wordcloud = WordCloud(max_font_size=100, max_words=1000, background_color=\"white\").generate(text)\n",
        "    plt.figure(figsize=[10, 10])\n",
        "    plt.imshow(wordcloud, interpolation=\"bilinear\")\n",
        "    plt.axis(\"off\")\n",
        "    plt.title(\"Calculation of Term Frequencies : wordcloud\")\n",
        "    plt.show()\n",
        "    wordcloud.to_file(\"wordcloud.png\")"
      ],
      "metadata": {
        "id": "mju8wVyVRz4C"
      },
      "execution_count": 20,
      "outputs": []
    },
    {
      "cell_type": "markdown",
      "source": [
        "Sentimental Analysis"
      ],
      "metadata": {
        "id": "AtHIskssTdqQ"
      }
    },
    {
      "cell_type": "code",
      "source": [
        "def create_polarity_scores(dataframe, dependent_var):\n",
        "  sia = SentimentIntensityAnalyzer()\n",
        "  dataframe[\"polarity_score\"] = dataframe[dependent_var].apply(lambda x: sia.polarity_scores(x)[\"compound\"])"
      ],
      "metadata": {
        "id": "IOlgtAsJR_gi"
      },
      "execution_count": 21,
      "outputs": []
    },
    {
      "cell_type": "code",
      "source": [
        "df['reviewText'] = df['reviewText'].astype(str)\n"
      ],
      "metadata": {
        "id": "_6XSXJLESDUC"
      },
      "execution_count": 24,
      "outputs": []
    },
    {
      "cell_type": "code",
      "source": [
        "df.head()"
      ],
      "metadata": {
        "colab": {
          "base_uri": "https://localhost:8080/",
          "height": 504
        },
        "id": "hHmKW2EcSGIv",
        "outputId": "00518d3a-18d4-4dc3-dc96-0b8fde397d71"
      },
      "execution_count": 25,
      "outputs": [
        {
          "output_type": "execute_result",
          "data": {
            "text/plain": [
              "   Unnamed: 0  reviewerName  overall                                         reviewText  reviewTime  day_diff  helpful_yes  helpful_no  total_vote  score_pos_neg_diff  score_average_rating  wilson_lower_bound\n",
              "0           0           NaN     4.00                                         No issues.  2014-07-23       138            0           0           0                   0                  0.00                0.00\n",
              "1           1          0mie     5.00  Purchased this for my device, it worked as adv...  2013-10-25       409            0           0           0                   0                  0.00                0.00\n",
              "2           2           1K3     4.00  it works as expected. I should have sprung for...  2012-12-23       715            0           0           0                   0                  0.00                0.00\n",
              "3           3           1m2     5.00  This think has worked out great.Had a diff. br...  2013-11-21       382            0           0           0                   0                  0.00                0.00\n",
              "4           4  2&amp;1/2Men     5.00  Bought it with Retail Packaging, arrived legit...  2013-07-13       513            0           0           0                   0                  0.00                0.00"
            ],
            "text/html": [
              "\n",
              "  <div id=\"df-74252c4e-3f8b-4d64-be4a-9aed77cfe318\" class=\"colab-df-container\">\n",
              "    <div>\n",
              "<style scoped>\n",
              "    .dataframe tbody tr th:only-of-type {\n",
              "        vertical-align: middle;\n",
              "    }\n",
              "\n",
              "    .dataframe tbody tr th {\n",
              "        vertical-align: top;\n",
              "    }\n",
              "\n",
              "    .dataframe thead th {\n",
              "        text-align: right;\n",
              "    }\n",
              "</style>\n",
              "<table border=\"1\" class=\"dataframe\">\n",
              "  <thead>\n",
              "    <tr style=\"text-align: right;\">\n",
              "      <th></th>\n",
              "      <th>Unnamed: 0</th>\n",
              "      <th>reviewerName</th>\n",
              "      <th>overall</th>\n",
              "      <th>reviewText</th>\n",
              "      <th>reviewTime</th>\n",
              "      <th>day_diff</th>\n",
              "      <th>helpful_yes</th>\n",
              "      <th>helpful_no</th>\n",
              "      <th>total_vote</th>\n",
              "      <th>score_pos_neg_diff</th>\n",
              "      <th>score_average_rating</th>\n",
              "      <th>wilson_lower_bound</th>\n",
              "    </tr>\n",
              "  </thead>\n",
              "  <tbody>\n",
              "    <tr>\n",
              "      <th>0</th>\n",
              "      <td>0</td>\n",
              "      <td>NaN</td>\n",
              "      <td>4.00</td>\n",
              "      <td>No issues.</td>\n",
              "      <td>2014-07-23</td>\n",
              "      <td>138</td>\n",
              "      <td>0</td>\n",
              "      <td>0</td>\n",
              "      <td>0</td>\n",
              "      <td>0</td>\n",
              "      <td>0.00</td>\n",
              "      <td>0.00</td>\n",
              "    </tr>\n",
              "    <tr>\n",
              "      <th>1</th>\n",
              "      <td>1</td>\n",
              "      <td>0mie</td>\n",
              "      <td>5.00</td>\n",
              "      <td>Purchased this for my device, it worked as adv...</td>\n",
              "      <td>2013-10-25</td>\n",
              "      <td>409</td>\n",
              "      <td>0</td>\n",
              "      <td>0</td>\n",
              "      <td>0</td>\n",
              "      <td>0</td>\n",
              "      <td>0.00</td>\n",
              "      <td>0.00</td>\n",
              "    </tr>\n",
              "    <tr>\n",
              "      <th>2</th>\n",
              "      <td>2</td>\n",
              "      <td>1K3</td>\n",
              "      <td>4.00</td>\n",
              "      <td>it works as expected. I should have sprung for...</td>\n",
              "      <td>2012-12-23</td>\n",
              "      <td>715</td>\n",
              "      <td>0</td>\n",
              "      <td>0</td>\n",
              "      <td>0</td>\n",
              "      <td>0</td>\n",
              "      <td>0.00</td>\n",
              "      <td>0.00</td>\n",
              "    </tr>\n",
              "    <tr>\n",
              "      <th>3</th>\n",
              "      <td>3</td>\n",
              "      <td>1m2</td>\n",
              "      <td>5.00</td>\n",
              "      <td>This think has worked out great.Had a diff. br...</td>\n",
              "      <td>2013-11-21</td>\n",
              "      <td>382</td>\n",
              "      <td>0</td>\n",
              "      <td>0</td>\n",
              "      <td>0</td>\n",
              "      <td>0</td>\n",
              "      <td>0.00</td>\n",
              "      <td>0.00</td>\n",
              "    </tr>\n",
              "    <tr>\n",
              "      <th>4</th>\n",
              "      <td>4</td>\n",
              "      <td>2&amp;amp;1/2Men</td>\n",
              "      <td>5.00</td>\n",
              "      <td>Bought it with Retail Packaging, arrived legit...</td>\n",
              "      <td>2013-07-13</td>\n",
              "      <td>513</td>\n",
              "      <td>0</td>\n",
              "      <td>0</td>\n",
              "      <td>0</td>\n",
              "      <td>0</td>\n",
              "      <td>0.00</td>\n",
              "      <td>0.00</td>\n",
              "    </tr>\n",
              "  </tbody>\n",
              "</table>\n",
              "</div>\n",
              "    <div class=\"colab-df-buttons\">\n",
              "\n",
              "  <div class=\"colab-df-container\">\n",
              "    <button class=\"colab-df-convert\" onclick=\"convertToInteractive('df-74252c4e-3f8b-4d64-be4a-9aed77cfe318')\"\n",
              "            title=\"Convert this dataframe to an interactive table.\"\n",
              "            style=\"display:none;\">\n",
              "\n",
              "  <svg xmlns=\"http://www.w3.org/2000/svg\" height=\"24px\" viewBox=\"0 -960 960 960\">\n",
              "    <path d=\"M120-120v-720h720v720H120Zm60-500h600v-160H180v160Zm220 220h160v-160H400v160Zm0 220h160v-160H400v160ZM180-400h160v-160H180v160Zm440 0h160v-160H620v160ZM180-180h160v-160H180v160Zm440 0h160v-160H620v160Z\"/>\n",
              "  </svg>\n",
              "    </button>\n",
              "\n",
              "  <style>\n",
              "    .colab-df-container {\n",
              "      display:flex;\n",
              "      gap: 12px;\n",
              "    }\n",
              "\n",
              "    .colab-df-convert {\n",
              "      background-color: #E8F0FE;\n",
              "      border: none;\n",
              "      border-radius: 50%;\n",
              "      cursor: pointer;\n",
              "      display: none;\n",
              "      fill: #1967D2;\n",
              "      height: 32px;\n",
              "      padding: 0 0 0 0;\n",
              "      width: 32px;\n",
              "    }\n",
              "\n",
              "    .colab-df-convert:hover {\n",
              "      background-color: #E2EBFA;\n",
              "      box-shadow: 0px 1px 2px rgba(60, 64, 67, 0.3), 0px 1px 3px 1px rgba(60, 64, 67, 0.15);\n",
              "      fill: #174EA6;\n",
              "    }\n",
              "\n",
              "    .colab-df-buttons div {\n",
              "      margin-bottom: 4px;\n",
              "    }\n",
              "\n",
              "    [theme=dark] .colab-df-convert {\n",
              "      background-color: #3B4455;\n",
              "      fill: #D2E3FC;\n",
              "    }\n",
              "\n",
              "    [theme=dark] .colab-df-convert:hover {\n",
              "      background-color: #434B5C;\n",
              "      box-shadow: 0px 1px 3px 1px rgba(0, 0, 0, 0.15);\n",
              "      filter: drop-shadow(0px 1px 2px rgba(0, 0, 0, 0.3));\n",
              "      fill: #FFFFFF;\n",
              "    }\n",
              "  </style>\n",
              "\n",
              "    <script>\n",
              "      const buttonEl =\n",
              "        document.querySelector('#df-74252c4e-3f8b-4d64-be4a-9aed77cfe318 button.colab-df-convert');\n",
              "      buttonEl.style.display =\n",
              "        google.colab.kernel.accessAllowed ? 'block' : 'none';\n",
              "\n",
              "      async function convertToInteractive(key) {\n",
              "        const element = document.querySelector('#df-74252c4e-3f8b-4d64-be4a-9aed77cfe318');\n",
              "        const dataTable =\n",
              "          await google.colab.kernel.invokeFunction('convertToInteractive',\n",
              "                                                    [key], {});\n",
              "        if (!dataTable) return;\n",
              "\n",
              "        const docLinkHtml = 'Like what you see? Visit the ' +\n",
              "          '<a target=\"_blank\" href=https://colab.research.google.com/notebooks/data_table.ipynb>data table notebook</a>'\n",
              "          + ' to learn more about interactive tables.';\n",
              "        element.innerHTML = '';\n",
              "        dataTable['output_type'] = 'display_data';\n",
              "        await google.colab.output.renderOutput(dataTable, element);\n",
              "        const docLink = document.createElement('div');\n",
              "        docLink.innerHTML = docLinkHtml;\n",
              "        element.appendChild(docLink);\n",
              "      }\n",
              "    </script>\n",
              "  </div>\n",
              "\n",
              "\n",
              "<div id=\"df-c0edc51d-4a6e-4516-aced-0e3312751149\">\n",
              "  <button class=\"colab-df-quickchart\" onclick=\"quickchart('df-c0edc51d-4a6e-4516-aced-0e3312751149')\"\n",
              "            title=\"Suggest charts\"\n",
              "            style=\"display:none;\">\n",
              "\n",
              "<svg xmlns=\"http://www.w3.org/2000/svg\" height=\"24px\"viewBox=\"0 0 24 24\"\n",
              "     width=\"24px\">\n",
              "    <g>\n",
              "        <path d=\"M19 3H5c-1.1 0-2 .9-2 2v14c0 1.1.9 2 2 2h14c1.1 0 2-.9 2-2V5c0-1.1-.9-2-2-2zM9 17H7v-7h2v7zm4 0h-2V7h2v10zm4 0h-2v-4h2v4z\"/>\n",
              "    </g>\n",
              "</svg>\n",
              "  </button>\n",
              "\n",
              "<style>\n",
              "  .colab-df-quickchart {\n",
              "      --bg-color: #E8F0FE;\n",
              "      --fill-color: #1967D2;\n",
              "      --hover-bg-color: #E2EBFA;\n",
              "      --hover-fill-color: #174EA6;\n",
              "      --disabled-fill-color: #AAA;\n",
              "      --disabled-bg-color: #DDD;\n",
              "  }\n",
              "\n",
              "  [theme=dark] .colab-df-quickchart {\n",
              "      --bg-color: #3B4455;\n",
              "      --fill-color: #D2E3FC;\n",
              "      --hover-bg-color: #434B5C;\n",
              "      --hover-fill-color: #FFFFFF;\n",
              "      --disabled-bg-color: #3B4455;\n",
              "      --disabled-fill-color: #666;\n",
              "  }\n",
              "\n",
              "  .colab-df-quickchart {\n",
              "    background-color: var(--bg-color);\n",
              "    border: none;\n",
              "    border-radius: 50%;\n",
              "    cursor: pointer;\n",
              "    display: none;\n",
              "    fill: var(--fill-color);\n",
              "    height: 32px;\n",
              "    padding: 0;\n",
              "    width: 32px;\n",
              "  }\n",
              "\n",
              "  .colab-df-quickchart:hover {\n",
              "    background-color: var(--hover-bg-color);\n",
              "    box-shadow: 0 1px 2px rgba(60, 64, 67, 0.3), 0 1px 3px 1px rgba(60, 64, 67, 0.15);\n",
              "    fill: var(--button-hover-fill-color);\n",
              "  }\n",
              "\n",
              "  .colab-df-quickchart-complete:disabled,\n",
              "  .colab-df-quickchart-complete:disabled:hover {\n",
              "    background-color: var(--disabled-bg-color);\n",
              "    fill: var(--disabled-fill-color);\n",
              "    box-shadow: none;\n",
              "  }\n",
              "\n",
              "  .colab-df-spinner {\n",
              "    border: 2px solid var(--fill-color);\n",
              "    border-color: transparent;\n",
              "    border-bottom-color: var(--fill-color);\n",
              "    animation:\n",
              "      spin 1s steps(1) infinite;\n",
              "  }\n",
              "\n",
              "  @keyframes spin {\n",
              "    0% {\n",
              "      border-color: transparent;\n",
              "      border-bottom-color: var(--fill-color);\n",
              "      border-left-color: var(--fill-color);\n",
              "    }\n",
              "    20% {\n",
              "      border-color: transparent;\n",
              "      border-left-color: var(--fill-color);\n",
              "      border-top-color: var(--fill-color);\n",
              "    }\n",
              "    30% {\n",
              "      border-color: transparent;\n",
              "      border-left-color: var(--fill-color);\n",
              "      border-top-color: var(--fill-color);\n",
              "      border-right-color: var(--fill-color);\n",
              "    }\n",
              "    40% {\n",
              "      border-color: transparent;\n",
              "      border-right-color: var(--fill-color);\n",
              "      border-top-color: var(--fill-color);\n",
              "    }\n",
              "    60% {\n",
              "      border-color: transparent;\n",
              "      border-right-color: var(--fill-color);\n",
              "    }\n",
              "    80% {\n",
              "      border-color: transparent;\n",
              "      border-right-color: var(--fill-color);\n",
              "      border-bottom-color: var(--fill-color);\n",
              "    }\n",
              "    90% {\n",
              "      border-color: transparent;\n",
              "      border-bottom-color: var(--fill-color);\n",
              "    }\n",
              "  }\n",
              "</style>\n",
              "\n",
              "  <script>\n",
              "    async function quickchart(key) {\n",
              "      const quickchartButtonEl =\n",
              "        document.querySelector('#' + key + ' button');\n",
              "      quickchartButtonEl.disabled = true;  // To prevent multiple clicks.\n",
              "      quickchartButtonEl.classList.add('colab-df-spinner');\n",
              "      try {\n",
              "        const charts = await google.colab.kernel.invokeFunction(\n",
              "            'suggestCharts', [key], {});\n",
              "      } catch (error) {\n",
              "        console.error('Error during call to suggestCharts:', error);\n",
              "      }\n",
              "      quickchartButtonEl.classList.remove('colab-df-spinner');\n",
              "      quickchartButtonEl.classList.add('colab-df-quickchart-complete');\n",
              "    }\n",
              "    (() => {\n",
              "      let quickchartButtonEl =\n",
              "        document.querySelector('#df-c0edc51d-4a6e-4516-aced-0e3312751149 button');\n",
              "      quickchartButtonEl.style.display =\n",
              "        google.colab.kernel.accessAllowed ? 'block' : 'none';\n",
              "    })();\n",
              "  </script>\n",
              "</div>\n",
              "    </div>\n",
              "  </div>\n"
            ],
            "application/vnd.google.colaboratory.intrinsic+json": {
              "type": "dataframe",
              "variable_name": "df",
              "summary": "{\n  \"name\": \"df\",\n  \"rows\": 4915,\n  \"fields\": [\n    {\n      \"column\": \"Unnamed: 0\",\n      \"properties\": {\n        \"dtype\": \"number\",\n        \"std\": 1418,\n        \"min\": 0,\n        \"max\": 4914,\n        \"num_unique_values\": 4915,\n        \"samples\": [\n          2346,\n          4344,\n          691\n        ],\n        \"semantic_type\": \"\",\n        \"description\": \"\"\n      }\n    },\n    {\n      \"column\": \"reviewerName\",\n      \"properties\": {\n        \"dtype\": \"string\",\n        \"num_unique_values\": 4594,\n        \"samples\": [\n          \"nta699\",\n          \"Maximus\",\n          \"G. Jackson\"\n        ],\n        \"semantic_type\": \"\",\n        \"description\": \"\"\n      }\n    },\n    {\n      \"column\": \"overall\",\n      \"properties\": {\n        \"dtype\": \"number\",\n        \"std\": 0.9968451383820338,\n        \"min\": 1.0,\n        \"max\": 5.0,\n        \"num_unique_values\": 5,\n        \"samples\": [\n          5.0,\n          2.0,\n          3.0\n        ],\n        \"semantic_type\": \"\",\n        \"description\": \"\"\n      }\n    },\n    {\n      \"column\": \"reviewText\",\n      \"properties\": {\n        \"dtype\": \"string\",\n        \"num_unique_values\": 4913,\n        \"samples\": [\n          \"This super-speed card works great in my phone. I haven't had any problems with it since I bought the thing! I'm certainly able to record HD video right onto the card no problem. I recommend this for those who need quick data delivery to and from there external card. I recommend it!\",\n          \"To be honest i purchased this because my son said I needed it with my tablet...I'm sure it will be fine...\",\n          \"Bought October 7th. Passed away December 23rd. RIP.I didn't really even use it because of the built in storage on my GS3. I had about 15 gb of music and movies on it, but only for when I was unexpectedly bored and without my zuneHd. On to the next brand I guess.\"\n        ],\n        \"semantic_type\": \"\",\n        \"description\": \"\"\n      }\n    },\n    {\n      \"column\": \"reviewTime\",\n      \"properties\": {\n        \"dtype\": \"object\",\n        \"num_unique_values\": 690,\n        \"samples\": [\n          \"2013-03-12\",\n          \"2013-09-10\",\n          \"2012-12-09\"\n        ],\n        \"semantic_type\": \"\",\n        \"description\": \"\"\n      }\n    },\n    {\n      \"column\": \"day_diff\",\n      \"properties\": {\n        \"dtype\": \"number\",\n        \"std\": 209,\n        \"min\": 1,\n        \"max\": 1064,\n        \"num_unique_values\": 690,\n        \"samples\": [\n          636,\n          454,\n          729\n        ],\n        \"semantic_type\": \"\",\n        \"description\": \"\"\n      }\n    },\n    {\n      \"column\": \"helpful_yes\",\n      \"properties\": {\n        \"dtype\": \"number\",\n        \"std\": 41,\n        \"min\": 0,\n        \"max\": 1952,\n        \"num_unique_values\": 23,\n        \"samples\": [\n          1428,\n          6,\n          0\n        ],\n        \"semantic_type\": \"\",\n        \"description\": \"\"\n      }\n    },\n    {\n      \"column\": \"helpful_no\",\n      \"properties\": {\n        \"dtype\": \"number\",\n        \"std\": 4,\n        \"min\": 0,\n        \"max\": 183,\n        \"num_unique_values\": 17,\n        \"samples\": [\n          0,\n          1,\n          10\n        ],\n        \"semantic_type\": \"\",\n        \"description\": \"\"\n      }\n    },\n    {\n      \"column\": \"total_vote\",\n      \"properties\": {\n        \"dtype\": \"number\",\n        \"std\": 44,\n        \"min\": 0,\n        \"max\": 2020,\n        \"num_unique_values\": 26,\n        \"samples\": [\n          495,\n          1505,\n          0\n        ],\n        \"semantic_type\": \"\",\n        \"description\": \"\"\n      }\n    },\n    {\n      \"column\": \"score_pos_neg_diff\",\n      \"properties\": {\n        \"dtype\": \"number\",\n        \"std\": 39,\n        \"min\": -130,\n        \"max\": 1884,\n        \"num_unique_values\": 27,\n        \"samples\": [\n          -2,\n          52,\n          -3\n        ],\n        \"semantic_type\": \"\",\n        \"description\": \"\"\n      }\n    },\n    {\n      \"column\": \"score_average_rating\",\n      \"properties\": {\n        \"dtype\": \"number\",\n        \"std\": 0.25606237802879933,\n        \"min\": 0.0,\n        \"max\": 1.0,\n        \"num_unique_values\": 28,\n        \"samples\": [\n          0.3333333333333333,\n          0.3076923076923077,\n          0.8571428571428571\n        ],\n        \"semantic_type\": \"\",\n        \"description\": \"\"\n      }\n    },\n    {\n      \"column\": \"wilson_lower_bound\",\n      \"properties\": {\n        \"dtype\": \"number\",\n        \"std\": 0.0771874411204749,\n        \"min\": 0.0,\n        \"max\": 0.9575439475520824,\n        \"num_unique_values\": 40,\n        \"samples\": [\n          0.6456695649333126,\n          0.4364971778135299,\n          0.3755346297625253\n        ],\n        \"semantic_type\": \"\",\n        \"description\": \"\"\n      }\n    }\n  ]\n}"
            }
          },
          "metadata": {},
          "execution_count": 25
        }
      ]
    },
    {
      "cell_type": "markdown",
      "source": [
        "**Future Engineering**"
      ],
      "metadata": {
        "id": "aNxtwEsgTnaC"
      }
    },
    {
      "cell_type": "code",
      "source": [
        "# Create Lables\n",
        "def create_label(dataframe, dependent_var, independent_var):\n",
        "  sia = SentimentIntensityAnalyzer()\n",
        "  dataframe[independent_var] = dataframe[dependent_var].apply(lambda x: \"pos\" if sia.polarity_scores(x)[\"compound\"] > 0 else \"neg\")\n",
        "  dataframe[independent_var] = LabelEncoder().fit_transform(dataframe[independent_var])\n",
        "\n",
        "  X = dataframe[dependent_var]\n",
        "  y = dataframe[independent_var]\n",
        "\n",
        "  return X, y"
      ],
      "metadata": {
        "id": "KsTH5Zo5STrL"
      },
      "execution_count": 26,
      "outputs": []
    },
    {
      "cell_type": "code",
      "source": [
        "X, y = create_label(df, \"reviewText\", \"sentiment_label\")\n"
      ],
      "metadata": {
        "id": "h_s7APHWTq5M"
      },
      "execution_count": 27,
      "outputs": []
    },
    {
      "cell_type": "code",
      "source": [
        "# Split Dataset\n",
        "def split_dataset(dataframe, X, y):\n",
        "  train_x, test_x, train_y, test_y = train_test_split(X, y, random_state=1)\n",
        "  return train_x, test_x, train_y, test_y"
      ],
      "metadata": {
        "id": "G9dLNCt6Ttr1"
      },
      "execution_count": 28,
      "outputs": []
    },
    {
      "cell_type": "code",
      "source": [
        "train_x, test_x, train_y, test_y = split_dataset(df, X, y)\n"
      ],
      "metadata": {
        "id": "i5735p73TwNe"
      },
      "execution_count": 29,
      "outputs": []
    },
    {
      "cell_type": "code",
      "source": [
        "def create_features_count(train_x, test_x):\n",
        "  # Count Vectors\n",
        "  vectorizer = CountVectorizer()\n",
        "  x_train_count_vectorizer = vectorizer.fit_transform(train_x)\n",
        "  x_test_count_vectorizer = vectorizer.fit_transform(test_x)\n",
        "\n",
        "  return x_train_count_vectorizer, x_test_count_vectorizer"
      ],
      "metadata": {
        "id": "MWSkpwaYTySf"
      },
      "execution_count": 30,
      "outputs": []
    },
    {
      "cell_type": "code",
      "source": [
        "x_train_count_vectorizer, x_test_count_vectorizer = create_features_count(train_x, test_x)"
      ],
      "metadata": {
        "id": "8i2iKp0fT1pR"
      },
      "execution_count": 31,
      "outputs": []
    },
    {
      "cell_type": "code",
      "source": [
        "def create_features_TFIDF_word(train_x, test_x):\n",
        "  # TF-IDF word\n",
        "  tf_idf_word_vectorizer = TfidfVectorizer()\n",
        "  x_train_tf_idf_word = tf_idf_word_vectorizer.fit_transform(train_x)\n",
        "  x_test_tf_idf_word = tf_idf_word_vectorizer.fit_transform(test_x)\n",
        "\n",
        "  return x_train_tf_idf_word, x_test_tf_idf_word"
      ],
      "metadata": {
        "id": "EJXX1WeyT4aD"
      },
      "execution_count": 32,
      "outputs": []
    },
    {
      "cell_type": "code",
      "source": [
        "x_train_tf_idf_word, x_test_tf_idf_word = create_features_TFIDF_word(train_x, test_x)\n"
      ],
      "metadata": {
        "id": "T1dPJKMfT6E7"
      },
      "execution_count": 33,
      "outputs": []
    },
    {
      "cell_type": "code",
      "source": [
        "def create_features_TFIDF_ngram(train_x, test_x):\n",
        "  # TF-IDF ngram\n",
        "  tf_idf_ngram_vectorizer = TfidfVectorizer(ngram_range=(2,3))\n",
        "  x_train_tf_idf_ngram = tf_idf_ngram_vectorizer.fit_transform(train_x)\n",
        "  x_test_tf_idf_ngram = tf_idf_ngram_vectorizer.fit_transform(test_x)\n",
        "\n",
        "  return x_train_tf_idf_ngram, x_test_tf_idf_ngram"
      ],
      "metadata": {
        "id": "doNj1nMhT8Gk"
      },
      "execution_count": 34,
      "outputs": []
    },
    {
      "cell_type": "code",
      "source": [
        "x_train_tf_idf_ngram, x_test_tf_idf_ngram = create_features_TFIDF_ngram(train_x, test_x)\n"
      ],
      "metadata": {
        "id": "HK-xZvPET-CH"
      },
      "execution_count": 35,
      "outputs": []
    },
    {
      "cell_type": "code",
      "source": [
        "def create_features_TFIDF_chars(train_x, test_x):\n",
        "  # TF-IDF Characters\n",
        "  tf_idf_chars_vectorizer = TfidfVectorizer(analyzer=\"char\", ngram_range=(2,3))\n",
        "  x_train_tf_idf_chars = tf_idf_chars_vectorizer.fit_transform(train_x)\n",
        "  x_test_tf_idf_chars = tf_idf_chars_vectorizer.fit_transform(test_x)\n",
        "\n",
        "  return x_train_tf_idf_chars, x_test_tf_idf_chars"
      ],
      "metadata": {
        "id": "xTZfmCAET_sR"
      },
      "execution_count": 36,
      "outputs": []
    },
    {
      "cell_type": "code",
      "source": [
        "x_train_tf_idf_chars, x_test_tf_idf_chars = create_features_TFIDF_chars(train_x, test_x)\n"
      ],
      "metadata": {
        "id": "1RyFlM6zUBhI"
      },
      "execution_count": 37,
      "outputs": []
    },
    {
      "cell_type": "markdown",
      "source": [
        "**SENTIMENTAL MODELING**"
      ],
      "metadata": {
        "id": "fqU2SuBuUIuN"
      }
    },
    {
      "cell_type": "code",
      "source": [
        "# Logistic Regression\n",
        "def crate_model_logistic(train_x, test_x):\n",
        "  # Count\n",
        "  x_train_count_vectorizer, x_test_count_vectorizer = create_features_count(train_x, test_x)\n",
        "  loj_count = LogisticRegression(solver='lbfgs', max_iter=1000)\n",
        "  loj_model_count = loj_count.fit(x_train_count_vectorizer, train_y)\n",
        "  accuracy_count = cross_val_score(loj_model_count, x_test_count_vectorizer, test_y, cv=10).mean()\n",
        "  print(\"Accuracy - Count Vectors: %.3f\" % accuracy_count)\n",
        "\n",
        "  # TF-IDF Word\n",
        "  x_train_tf_idf_word, x_test_tf_idf_word = create_features_TFIDF_word(train_x, test_x)\n",
        "  loj_word = LogisticRegression(solver='lbfgs', max_iter=1000)\n",
        "  loj_model_word = loj_word.fit(x_train_tf_idf_word, train_y)\n",
        "  accuracy_word = cross_val_score(loj_model_word, x_test_tf_idf_word, test_y, cv=10).mean()\n",
        "  print(\"Accuracy - TF-IDF Word: %.3f\" % accuracy_word)\n",
        "\n",
        "  # TF-IDF ngram\n",
        "  x_train_tf_idf_ngram, x_test_tf_idf_ngram = create_features_TFIDF_ngram(train_x, test_x)\n",
        "  loj_ngram = LogisticRegression(solver='lbfgs', max_iter=1000)\n",
        "  loj_model_ngram = loj_ngram.fit(x_train_tf_idf_ngram, train_y)\n",
        "  accuracy_ngram = cross_val_score(loj_model_ngram, x_test_tf_idf_ngram, test_y, cv=10).mean()\n",
        "  print(\"Accuracy TF-IDF ngram: %.3f\" % accuracy_ngram)\n",
        "\n",
        "  # TF-IDF chars\n",
        "\n",
        "  loj_chars = LogisticRegression(solver='lbfgs', max_iter=1000)\n",
        "  loj_model_chars = loj_chars.fit(x_train_tf_idf_chars, train_y)\n",
        "  accuracy_chars = cross_val_score(loj_model_chars, x_test_tf_idf_chars, test_y, cv=10).mean()\n",
        "  print(\"Accuracy TF-IDF Characters: %.3f\" % accuracy_chars)\n",
        "\n",
        "  return loj_model_count, loj_model_word, loj_model_ngram, loj_model_chars"
      ],
      "metadata": {
        "id": "rlmluasyUDMc"
      },
      "execution_count": 39,
      "outputs": []
    },
    {
      "cell_type": "code",
      "source": [
        "loj_model_count, loj_model_word, loj_model_ngram, loj_model_chars = crate_model_logistic(train_x, test_x)"
      ],
      "metadata": {
        "colab": {
          "base_uri": "https://localhost:8080/"
        },
        "id": "1uu4jh6fUO_T",
        "outputId": "727604bc-cf0c-47d3-ebf4-f5e63c8a9a5d"
      },
      "execution_count": 40,
      "outputs": [
        {
          "output_type": "stream",
          "name": "stdout",
          "text": [
            "Accuracy - Count Vectors: 0.806\n",
            "Accuracy - TF-IDF Word: 0.770\n",
            "Accuracy TF-IDF ngram: 0.762\n",
            "Accuracy TF-IDF Characters: 0.770\n"
          ]
        }
      ]
    },
    {
      "cell_type": "code",
      "source": [
        "# Random Forest\n",
        "def crate_model_randomforest(train_x, test_x):\n",
        "  # Count\n",
        "  x_train_count_vectorizer, x_test_count_vectorizer = create_features_count(train_x, test_x)\n",
        "  rf_count = RandomForestClassifier()\n",
        "  rf_model_count = rf_count.fit(x_train_count_vectorizer, train_y)\n",
        "  accuracy_count = cross_val_score(rf_model_count, x_test_count_vectorizer, test_y, cv=10).mean()\n",
        "  print(\"Accuracy - Count Vectors: %.3f\" % accuracy_count)\n",
        "\n",
        "  # TF-IDF Word\n",
        "  x_train_tf_idf_word, x_test_tf_idf_word = create_features_TFIDF_word(train_x, test_x)\n",
        "  rf_word = RandomForestClassifier()\n",
        "  rf_model_word = rf_word.fit(x_train_tf_idf_word, train_y)\n",
        "  accuracy_word = cross_val_score(rf_model_word, x_test_tf_idf_word, test_y, cv=10).mean()\n",
        "  print(\"Accuracy - TF-IDF Word: %.3f\" % accuracy_word)\n",
        "\n",
        "  # TF-IDF ngram\n",
        "  x_train_tf_idf_ngram, x_test_tf_idf_ngram = create_features_TFIDF_ngram(train_x, test_x)\n",
        "  rf_ngram = RandomForestClassifier()\n",
        "  rf_model_ngram = rf_ngram.fit(x_train_tf_idf_ngram, train_y)\n",
        "  accuracy_ngram = cross_val_score(rf_model_ngram, x_test_tf_idf_ngram, test_y, cv=10).mean()\n",
        "  print(\"Accuracy TF-IDF ngram: %.3f\" % accuracy_ngram)\n",
        "\n",
        "  # TF-IDF chars\n",
        "\n",
        "  rf_chars = RandomForestClassifier()\n",
        "  rf_model_chars = rf_chars.fit(x_train_tf_idf_chars, train_y)\n",
        "  accuracy_chars = cross_val_score(rf_model_chars, x_test_tf_idf_chars, test_y, cv=10).mean()\n",
        "  print(\"Accuracy TF-IDF Characters: %.3f\" % accuracy_chars)\n",
        "\n",
        "  return rf_model_count, rf_model_word, rf_model_ngram, rf_model_chars"
      ],
      "metadata": {
        "id": "8NiihA_EUR7C"
      },
      "execution_count": 41,
      "outputs": []
    },
    {
      "cell_type": "code",
      "source": [
        "rf_model_count, rf_model_word, rf_model_ngram, rf_model_chars = crate_model_randomforest(train_x, test_x)"
      ],
      "metadata": {
        "colab": {
          "base_uri": "https://localhost:8080/"
        },
        "id": "tHP1PhNhUUpX",
        "outputId": "024046d3-8a18-4d72-9a15-047897c284ba"
      },
      "execution_count": 42,
      "outputs": [
        {
          "output_type": "stream",
          "name": "stdout",
          "text": [
            "Accuracy - Count Vectors: 0.767\n",
            "Accuracy - TF-IDF Word: 0.766\n",
            "Accuracy TF-IDF ngram: 0.762\n",
            "Accuracy TF-IDF Characters: 0.763\n"
          ]
        }
      ]
    },
    {
      "cell_type": "markdown",
      "source": [
        "MODEL TUNING"
      ],
      "metadata": {
        "id": "9Jztg18xUbIW"
      }
    },
    {
      "cell_type": "code",
      "source": [
        "def model_tuning_randomforest(train_x, test_x):\n",
        "  # Count\n",
        "  x_train_count_vectorizer, x_test_count_vectorizer = create_features_count(train_x, test_x)\n",
        "  rf_model_count = RandomForestClassifier(random_state=1)\n",
        "  rf_params = {\"max_depth\": [2,5,8, None],\n",
        "               \"max_features\": [2,5,8, \"auto\"],\n",
        "               \"n_estimators\": [100,500,1000],\n",
        "               \"min_samples_split\": [2,5,10]}\n",
        "  rf_best_grid = GridSearchCV(rf_model_count, rf_params, cv=10, n_jobs=-1, verbose=False).fit(x_train_count_vectorizer, train_y)\n",
        "  rf_model_count_final = rf_model_count.set_params(**rf_best_grid.best_params_, random_state=1).fit(x_train_count_vectorizer, train_y)\n",
        "  accuracy_count = cross_val_score(rf_model_count_final, x_test_count_vectorizer, test_y, cv=10).mean()\n",
        "  print(\"Accuracy - Count Vectors: %.3f\" % accuracy_count)\n",
        "\n",
        "  return rf_model_count_final"
      ],
      "metadata": {
        "id": "sc0ZJki5UXJ4"
      },
      "execution_count": 43,
      "outputs": []
    },
    {
      "cell_type": "code",
      "source": [
        "rf_model_count_final = model_tuning_randomforest(train_x, test_x)"
      ],
      "metadata": {
        "id": "x7civJxjUdhs"
      },
      "execution_count": null,
      "outputs": []
    },
    {
      "cell_type": "markdown",
      "source": [
        "**PREDICTION**"
      ],
      "metadata": {
        "id": "8t7q_F_yUkCI"
      }
    },
    {
      "cell_type": "code",
      "source": [
        "def predict_count(train_x, model, new_comment):\n",
        "  new_comment= pd.Series(new_comment)\n",
        "  new_comment = CountVectorizer().fit(train_x).transform(new_comment)\n",
        "  result = model.predict(new_comment)\n",
        "  if result==1:\n",
        "    print(\"Comment is Pozitive\")\n",
        "  else:\n",
        "    print(\"Comment is Negative\")"
      ],
      "metadata": {
        "id": "lId2gdzSUhJh"
      },
      "execution_count": null,
      "outputs": []
    },
    {
      "cell_type": "code",
      "source": [
        "# Logistic Regression\n",
        "predict_count(train_x, model=loj_model_count, new_comment=\"this product is very good :)\")"
      ],
      "metadata": {
        "id": "UIqfYjPvUl1e"
      },
      "execution_count": null,
      "outputs": []
    },
    {
      "cell_type": "code",
      "source": [
        "# Random Forest\n",
        "predict_count(train_x, model=rf_model_count, new_comment=\"works no good. runs into troubles. always hangs\")"
      ],
      "metadata": {
        "id": "vPV8WI0cUqDD"
      },
      "execution_count": null,
      "outputs": []
    },
    {
      "cell_type": "code",
      "source": [
        "# Sample Review\n",
        "new_comment=pd.Series(df[\"reviewText\"].sample(1).values)\n",
        "new_comment"
      ],
      "metadata": {
        "id": "ho8aTa07Ur4P"
      },
      "execution_count": null,
      "outputs": []
    },
    {
      "cell_type": "code",
      "source": [
        "# Sample Review - Random Forest\n",
        "predict_count(train_x, model=rf_model_count, new_comment=new_comment)"
      ],
      "metadata": {
        "id": "vuTunPmBUt0M"
      },
      "execution_count": null,
      "outputs": []
    },
    {
      "cell_type": "code",
      "source": [],
      "metadata": {
        "id": "hSizyzcJUvl5"
      },
      "execution_count": null,
      "outputs": []
    }
  ]
}